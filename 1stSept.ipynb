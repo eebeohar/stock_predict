{
  "nbformat": 4,
  "nbformat_minor": 0,
  "metadata": {
    "colab": {
      "name": "1stSept.ipynb",
      "provenance": [],
      "collapsed_sections": [],
      "mount_file_id": "1VKBFyuczAW6TMw0IuLBFY6QC0whQnFPO",
      "authorship_tag": "ABX9TyO/x05RXaahoDvaPRZb1m+d",
      "include_colab_link": true
    },
    "kernelspec": {
      "name": "python3",
      "display_name": "Python 3"
    },
    "language_info": {
      "name": "python"
    },
    "accelerator": "GPU"
  },
  "cells": [
    {
      "cell_type": "markdown",
      "metadata": {
        "id": "view-in-github",
        "colab_type": "text"
      },
      "source": [
        "<a href=\"https://colab.research.google.com/github/eebeohar/stock_predict/blob/main/1stSept.ipynb\" target=\"_parent\"><img src=\"https://colab.research.google.com/assets/colab-badge.svg\" alt=\"Open In Colab\"/></a>"
      ]
    },
    {
      "cell_type": "code",
      "metadata": {
        "id": "2Wtw6yQGScJ1"
      },
      "source": [
        "from pandas_datareader.data import DataReader\n"
      ],
      "execution_count": null,
      "outputs": []
    },
    {
      "cell_type": "code",
      "metadata": {
        "id": "rv_p-2wiT3IH"
      },
      "source": [
        "#!pip install --upgrade pandas-datareader"
      ],
      "execution_count": null,
      "outputs": []
    },
    {
      "cell_type": "code",
      "metadata": {
        "colab": {
          "base_uri": "https://localhost:8080/",
          "height": 388
        },
        "id": "_Iv0fEQbTA8j",
        "outputId": "e541bba3-7fcd-480d-9017-8e2c23d6b522"
      },
      "source": [
        "data = DataReader('BEL.NS',data_source='yahoo',start='2010-01-01',end='2021-01-01')\n",
        "data.head(10)"
      ],
      "execution_count": null,
      "outputs": [
        {
          "output_type": "execute_result",
          "data": {
            "text/html": [
              "<div>\n",
              "<style scoped>\n",
              "    .dataframe tbody tr th:only-of-type {\n",
              "        vertical-align: middle;\n",
              "    }\n",
              "\n",
              "    .dataframe tbody tr th {\n",
              "        vertical-align: top;\n",
              "    }\n",
              "\n",
              "    .dataframe thead th {\n",
              "        text-align: right;\n",
              "    }\n",
              "</style>\n",
              "<table border=\"1\" class=\"dataframe\">\n",
              "  <thead>\n",
              "    <tr style=\"text-align: right;\">\n",
              "      <th></th>\n",
              "      <th>High</th>\n",
              "      <th>Low</th>\n",
              "      <th>Open</th>\n",
              "      <th>Close</th>\n",
              "      <th>Volume</th>\n",
              "      <th>Adj Close</th>\n",
              "    </tr>\n",
              "    <tr>\n",
              "      <th>Date</th>\n",
              "      <th></th>\n",
              "      <th></th>\n",
              "      <th></th>\n",
              "      <th></th>\n",
              "      <th></th>\n",
              "      <th></th>\n",
              "    </tr>\n",
              "  </thead>\n",
              "  <tbody>\n",
              "    <tr>\n",
              "      <th>2010-01-04</th>\n",
              "      <td>59.818180</td>\n",
              "      <td>58.636364</td>\n",
              "      <td>59.090908</td>\n",
              "      <td>59.027271</td>\n",
              "      <td>2349666.0</td>\n",
              "      <td>47.897308</td>\n",
              "    </tr>\n",
              "    <tr>\n",
              "      <th>2010-01-05</th>\n",
              "      <td>59.657574</td>\n",
              "      <td>58.815151</td>\n",
              "      <td>59.393940</td>\n",
              "      <td>59.210606</td>\n",
              "      <td>1653828.0</td>\n",
              "      <td>48.046066</td>\n",
              "    </tr>\n",
              "    <tr>\n",
              "      <th>2010-01-06</th>\n",
              "      <td>59.299999</td>\n",
              "      <td>58.518181</td>\n",
              "      <td>59.122726</td>\n",
              "      <td>58.810604</td>\n",
              "      <td>417417.0</td>\n",
              "      <td>47.721481</td>\n",
              "    </tr>\n",
              "    <tr>\n",
              "      <th>2010-01-07</th>\n",
              "      <td>59.242424</td>\n",
              "      <td>58.280304</td>\n",
              "      <td>59.087879</td>\n",
              "      <td>58.475758</td>\n",
              "      <td>422004.0</td>\n",
              "      <td>47.449783</td>\n",
              "    </tr>\n",
              "    <tr>\n",
              "      <th>2010-01-08</th>\n",
              "      <td>58.743938</td>\n",
              "      <td>57.806061</td>\n",
              "      <td>57.806061</td>\n",
              "      <td>58.522728</td>\n",
              "      <td>851235.0</td>\n",
              "      <td>47.487896</td>\n",
              "    </tr>\n",
              "    <tr>\n",
              "      <th>2010-01-11</th>\n",
              "      <td>62.348484</td>\n",
              "      <td>58.106060</td>\n",
              "      <td>58.575756</td>\n",
              "      <td>61.468182</td>\n",
              "      <td>4406424.0</td>\n",
              "      <td>49.877964</td>\n",
              "    </tr>\n",
              "    <tr>\n",
              "      <th>2010-01-12</th>\n",
              "      <td>62.424240</td>\n",
              "      <td>59.515152</td>\n",
              "      <td>61.454544</td>\n",
              "      <td>59.753029</td>\n",
              "      <td>1479192.0</td>\n",
              "      <td>48.486233</td>\n",
              "    </tr>\n",
              "    <tr>\n",
              "      <th>2010-01-13</th>\n",
              "      <td>61.848484</td>\n",
              "      <td>59.278786</td>\n",
              "      <td>59.751514</td>\n",
              "      <td>61.004543</td>\n",
              "      <td>1876446.0</td>\n",
              "      <td>49.501743</td>\n",
              "    </tr>\n",
              "    <tr>\n",
              "      <th>2010-01-14</th>\n",
              "      <td>63.593941</td>\n",
              "      <td>60.969696</td>\n",
              "      <td>61.515152</td>\n",
              "      <td>62.731819</td>\n",
              "      <td>4986069.0</td>\n",
              "      <td>50.903339</td>\n",
              "    </tr>\n",
              "    <tr>\n",
              "      <th>2010-01-15</th>\n",
              "      <td>65.636360</td>\n",
              "      <td>62.166664</td>\n",
              "      <td>63.484848</td>\n",
              "      <td>62.728786</td>\n",
              "      <td>3423024.0</td>\n",
              "      <td>50.900883</td>\n",
              "    </tr>\n",
              "  </tbody>\n",
              "</table>\n",
              "</div>"
            ],
            "text/plain": [
              "                 High        Low       Open      Close     Volume  Adj Close\n",
              "Date                                                                        \n",
              "2010-01-04  59.818180  58.636364  59.090908  59.027271  2349666.0  47.897308\n",
              "2010-01-05  59.657574  58.815151  59.393940  59.210606  1653828.0  48.046066\n",
              "2010-01-06  59.299999  58.518181  59.122726  58.810604   417417.0  47.721481\n",
              "2010-01-07  59.242424  58.280304  59.087879  58.475758   422004.0  47.449783\n",
              "2010-01-08  58.743938  57.806061  57.806061  58.522728   851235.0  47.487896\n",
              "2010-01-11  62.348484  58.106060  58.575756  61.468182  4406424.0  49.877964\n",
              "2010-01-12  62.424240  59.515152  61.454544  59.753029  1479192.0  48.486233\n",
              "2010-01-13  61.848484  59.278786  59.751514  61.004543  1876446.0  49.501743\n",
              "2010-01-14  63.593941  60.969696  61.515152  62.731819  4986069.0  50.903339\n",
              "2010-01-15  65.636360  62.166664  63.484848  62.728786  3423024.0  50.900883"
            ]
          },
          "metadata": {},
          "execution_count": 3
        }
      ]
    },
    {
      "cell_type": "code",
      "metadata": {
        "colab": {
          "base_uri": "https://localhost:8080/",
          "height": 267
        },
        "id": "rSvX7JzYULwG",
        "outputId": "e2eab39e-1e9d-4e0e-de18-25ec9085ae4b"
      },
      "source": [
        "import matplotlib.pyplot as plt\n",
        "plt.plot(data['High'])\n",
        "plt.plot(data['Low'])\n",
        "plt.show()"
      ],
      "execution_count": null,
      "outputs": [
        {
          "output_type": "display_data",
          "data": {
            "image/png": "[encoded data removed]",
            "text/plain": [
              "<Figure size 432x288 with 1 Axes>"
            ]
          },
          "metadata": {
            "needs_background": "light"
          }
        }
      ]
    },
    {
      "cell_type": "code",
      "metadata": {
        "id": "d8Y8HDifWGeI"
      },
      "source": [
        "from sklearn.preprocessing import MinMaxScaler as MMS"
      ],
      "execution_count": null,
      "outputs": []
    },
    {
      "cell_type": "code",
      "metadata": {
        "colab": {
          "base_uri": "https://localhost:8080/"
        },
        "id": "GEobf0diYSAU",
        "outputId": "cddd320d-58bc-4c07-f403-49d935757bd6"
      },
      "source": [
        "high_data = data['High'].values\n",
        "high_data.shape"
      ],
      "execution_count": null,
      "outputs": [
        {
          "output_type": "execute_result",
          "data": {
            "text/plain": [
              "(2712,)"
            ]
          },
          "metadata": {},
          "execution_count": 6
        }
      ]
    },
    {
      "cell_type": "code",
      "metadata": {
        "colab": {
          "base_uri": "https://localhost:8080/"
        },
        "id": "SXkV5P4BYeC6",
        "outputId": "511f13b5-709e-4fd2-c30c-21bc113d9112"
      },
      "source": [
        "high_data = high_data.reshape(high_data.shape[0],1)\n",
        "high_data.shape"
      ],
      "execution_count": null,
      "outputs": [
        {
          "output_type": "execute_result",
          "data": {
            "text/plain": [
              "(2712, 1)"
            ]
          },
          "metadata": {},
          "execution_count": 7
        }
      ]
    },
    {
      "cell_type": "code",
      "metadata": {
        "id": "yB7eDDR-XXGZ"
      },
      "source": [
        "obj1 = MMS(feature_range=(0,1))\n",
        "high_data_norm = obj1.fit_transform(high_data) "
      ],
      "execution_count": null,
      "outputs": []
    },
    {
      "cell_type": "code",
      "metadata": {
        "id": "uW4pXe1MaVX1"
      },
      "source": [
        "import numpy as np\n"
      ],
      "execution_count": null,
      "outputs": []
    },
    {
      "cell_type": "code",
      "metadata": {
        "colab": {
          "base_uri": "https://localhost:8080/"
        },
        "id": "9FjuVH6oZaTw",
        "outputId": "70ded26a-1a29-4a9c-f385-056945e680a8"
      },
      "source": [
        "train_len = np.ceil(len(high_data_norm)*0.8)\n",
        "train_len"
      ],
      "execution_count": null,
      "outputs": [
        {
          "output_type": "execute_result",
          "data": {
            "text/plain": [
              "2170.0"
            ]
          },
          "metadata": {},
          "execution_count": 10
        }
      ]
    },
    {
      "cell_type": "code",
      "metadata": {
        "id": "Ea5es7EOaJ6Z"
      },
      "source": [
        "train_data = high_data_norm[0:int(train_len),:]"
      ],
      "execution_count": null,
      "outputs": []
    },
    {
      "cell_type": "code",
      "metadata": {
        "colab": {
          "base_uri": "https://localhost:8080/"
        },
        "id": "XwPKwi-YbWpm",
        "outputId": "0a3c4871-81c1-4662-d697-3ae60ab82d82"
      },
      "source": [
        "test_len = np.ceil(len(high_data_norm)*0.1)\n",
        "test_len"
      ],
      "execution_count": null,
      "outputs": [
        {
          "output_type": "execute_result",
          "data": {
            "text/plain": [
              "272.0"
            ]
          },
          "metadata": {},
          "execution_count": 12
        }
      ]
    },
    {
      "cell_type": "code",
      "metadata": {
        "id": "c43OfQaBbflZ"
      },
      "source": [
        "val_data = high_data_norm[int(train_len):int(train_len) + int(test_len),:]\n",
        "test_data = high_data_norm[int(train_len) + int(test_len):,:]\n"
      ],
      "execution_count": null,
      "outputs": []
    },
    {
      "cell_type": "code",
      "metadata": {
        "colab": {
          "base_uri": "https://localhost:8080/"
        },
        "id": "PEq1ygV9cA7j",
        "outputId": "1b10edb7-2468-473e-a092-1f7b8497f982"
      },
      "source": [
        "test_data.shape"
      ],
      "execution_count": null,
      "outputs": [
        {
          "output_type": "execute_result",
          "data": {
            "text/plain": [
              "(270, 1)"
            ]
          },
          "metadata": {},
          "execution_count": 14
        }
      ]
    },
    {
      "cell_type": "code",
      "metadata": {
        "id": "fxLZhyydcH9K"
      },
      "source": [
        "x_train = []\n",
        "y_train = []\n",
        "for i in range (10,len(train_data)):\n",
        "  x_train.append(train_data[i-10:i,0]) # ????????\n",
        "  y_train.append(train_data[i,0])\n",
        "                       "
      ],
      "execution_count": null,
      "outputs": []
    },
    {
      "cell_type": "code",
      "metadata": {
        "colab": {
          "base_uri": "https://localhost:8080/"
        },
        "id": "YMNeaDNceKKB",
        "outputId": "95eb0d64-1fec-48f8-9caf-3764488fb3d2"
      },
      "source": [
        "x_train = np.array(x_train)\n",
        "y_train = np.array(y_train)\n",
        "x_train.shape"
      ],
      "execution_count": null,
      "outputs": [
        {
          "output_type": "execute_result",
          "data": {
            "text/plain": [
              "(2160, 10)"
            ]
          },
          "metadata": {},
          "execution_count": 16
        }
      ]
    },
    {
      "cell_type": "code",
      "metadata": {
        "id": "uvLp9Z8xek8J"
      },
      "source": [
        "x_val = []\n",
        "y_val = []\n",
        "for i in range (10,len(val_data)):\n",
        "  x_val.append(train_data[i-10:i,0]) # ????????\n",
        "  y_val.append(train_data[i,0])\n",
        "x_val = np.array(x_val)\n",
        "y_val = np.array(y_val)                       "
      ],
      "execution_count": null,
      "outputs": []
    },
    {
      "cell_type": "code",
      "metadata": {
        "id": "v9WEqqwYM3p7"
      },
      "source": [
        "x_test = []\n",
        "y_test = []\n",
        "for i in range (10,len(test_data)):\n",
        "  x_test.append(test_data[i-10:i,0]) # ????????\n",
        "  y_test.append(test_data[i,0])\n",
        "x_test = np.array(x_test)\n",
        "y_test = np.array(y_test)                       "
      ],
      "execution_count": null,
      "outputs": []
    },
    {
      "cell_type": "code",
      "metadata": {
        "id": "urapiwwpe9rC"
      },
      "source": [
        "from tensorflow.keras.models import Sequential\n",
        "from tensorflow.keras.layers import Dense, LSTM\n"
      ],
      "execution_count": null,
      "outputs": []
    },
    {
      "cell_type": "code",
      "metadata": {
        "colab": {
          "base_uri": "https://localhost:8080/"
        },
        "id": "XDM4qfBFfyJS",
        "outputId": "c8f2a6f2-5ecf-499e-e12a-ba92fe03d92a"
      },
      "source": [
        "model = Sequential()\n",
        "model.add(LSTM(64,return_sequences=True,input_shape=(x_train.shape[1],1)))\n",
        "model.add(LSTM(128))\n",
        "model.add(Dense(128))\n",
        "model.add(Dense(1))\n",
        "model.summary()"
      ],
      "execution_count": null,
      "outputs": [
        {
          "output_type": "stream",
          "name": "stdout",
          "text": [
            "Model: \"sequential\"\n",
            "_________________________________________________________________\n",
            "Layer (type)                 Output Shape              Param #   \n",
            "=================================================================\n",
            "lstm (LSTM)                  (None, 10, 64)            16896     \n",
            "_________________________________________________________________\n",
            "lstm_1 (LSTM)                (None, 128)               98816     \n",
            "_________________________________________________________________\n",
            "dense (Dense)                (None, 128)               16512     \n",
            "_________________________________________________________________\n",
            "dense_1 (Dense)              (None, 1)                 129       \n",
            "=================================================================\n",
            "Total params: 132,353\n",
            "Trainable params: 132,353\n",
            "Non-trainable params: 0\n",
            "_________________________________________________________________\n"
          ]
        }
      ]
    },
    {
      "cell_type": "code",
      "metadata": {
        "id": "XeJWeKrAhCwY"
      },
      "source": [
        "from tensorflow.keras.optimizers import Adam\n",
        "adam = Adam(learning_rate=0.0001)\n",
        "model.compile(optimizer=adam,loss='mean_squared_error')"
      ],
      "execution_count": null,
      "outputs": []
    },
    {
      "cell_type": "code",
      "metadata": {
        "colab": {
          "base_uri": "https://localhost:8080/"
        },
        "id": "9qEIFZ46h1gC",
        "outputId": "562b3560-5da9-409d-a44c-3dcc009eee2d"
      },
      "source": [
        "x_train = x_train.reshape(x_train.shape[0],x_train.shape[1],1)\n",
        "x_train.shape"
      ],
      "execution_count": null,
      "outputs": [
        {
          "output_type": "execute_result",
          "data": {
            "text/plain": [
              "(2160, 10, 1)"
            ]
          },
          "metadata": {},
          "execution_count": 21
        }
      ]
    },
    {
      "cell_type": "code",
      "metadata": {
        "colab": {
          "base_uri": "https://localhost:8080/"
        },
        "id": "zhlwV28fikBg",
        "outputId": "59dda12a-3127-4b06-8863-ba6cee077eae"
      },
      "source": [
        "x_val = x_val.reshape(x_val.shape[0],x_val.shape[1],1)\n",
        "x_val.shape"
      ],
      "execution_count": null,
      "outputs": [
        {
          "output_type": "execute_result",
          "data": {
            "text/plain": [
              "(262, 10, 1)"
            ]
          },
          "metadata": {},
          "execution_count": 22
        }
      ]
    },
    {
      "cell_type": "code",
      "metadata": {
        "colab": {
          "base_uri": "https://localhost:8080/"
        },
        "id": "WDoYgU6KOF0F",
        "outputId": "1c1c285e-6e44-4a55-e5d3-20d75218fca2"
      },
      "source": [
        "x_test = x_test.reshape(x_test.shape[0],x_test.shape[1],1)\n",
        "x_test.shape"
      ],
      "execution_count": null,
      "outputs": [
        {
          "output_type": "execute_result",
          "data": {
            "text/plain": [
              "(260, 10, 1)"
            ]
          },
          "metadata": {},
          "execution_count": 27
        }
      ]
    },
    {
      "cell_type": "code",
      "metadata": {
        "colab": {
          "base_uri": "https://localhost:8080/"
        },
        "id": "M_XL1egBkK8d",
        "outputId": "1670eb74-7023-4c34-a5d2-5309786c8823"
      },
      "source": [
        "history = model.fit(x_train,y_train,batch_size=1,validation_data=(x_val,y_val),epochs=5)"
      ],
      "execution_count": null,
      "outputs": [
        {
          "output_type": "stream",
          "name": "stdout",
          "text": [
            "Epoch 1/5\n",
            "2160/2160 [==============================] - 22s 7ms/step - loss: 0.0033 - val_loss: 3.4924e-04\n",
            "Epoch 2/5\n",
            "2160/2160 [==============================] - 14s 6ms/step - loss: 7.6747e-04 - val_loss: 2.6768e-04\n",
            "Epoch 3/5\n",
            "2160/2160 [==============================] - 14s 6ms/step - loss: 6.6949e-04 - val_loss: 1.2510e-04\n",
            "Epoch 4/5\n",
            "2160/2160 [==============================] - 14s 6ms/step - loss: 6.3015e-04 - val_loss: 1.1214e-04\n",
            "Epoch 5/5\n",
            "2160/2160 [==============================] - 14s 6ms/step - loss: 5.3136e-04 - val_loss: 1.3158e-04\n"
          ]
        }
      ]
    },
    {
      "cell_type": "code",
      "metadata": {
        "colab": {
          "base_uri": "https://localhost:8080/",
          "height": 281
        },
        "id": "28e1x6C3lUzT",
        "outputId": "438a8ae4-c9ad-4170-a913-0f89de393d25"
      },
      "source": [
        "loss = history.history['loss']\n",
        "val_loss = history.history['val_loss']\n",
        "epochs = range(len(loss))\n",
        "plt.plot(epochs, loss, 'b', label='Training loss')\n",
        "plt.plot(epochs, val_loss, 'r', label='Validation loss')\n",
        "plt.title('Training and validation loss')\n",
        "plt.legend()\n",
        "plt.show()"
      ],
      "execution_count": null,
      "outputs": [
        {
          "output_type": "display_data",
          "data": {
            "image/png": "[encoded data removed]",
            "text/plain": [
              "<Figure size 432x288 with 1 Axes>"
            ]
          },
          "metadata": {
            "needs_background": "light"
          }
        }
      ]
    },
    {
      "cell_type": "code",
      "metadata": {
        "id": "n9ooziHEnOhS"
      },
      "source": [
        "predicted = model.predict(x_test)"
      ],
      "execution_count": null,
      "outputs": []
    },
    {
      "cell_type": "code",
      "metadata": {
        "id": "MXIhJpClPJvN"
      },
      "source": [
        "rms = np.sqrt(np.mean((predicted-y_test)**2))\n"
      ],
      "execution_count": null,
      "outputs": []
    },
    {
      "cell_type": "code",
      "metadata": {
        "colab": {
          "base_uri": "https://localhost:8080/"
        },
        "id": "5UYLhIVRPhvd",
        "outputId": "f5ea4b17-6e95-403b-9713-26169294a50f"
      },
      "source": [
        "rms"
      ],
      "execution_count": null,
      "outputs": [
        {
          "output_type": "execute_result",
          "data": {
            "text/plain": [
              "0.13506870638843016"
            ]
          },
          "metadata": {},
          "execution_count": 30
        }
      ]
    },
    {
      "cell_type": "code",
      "metadata": {
        "id": "MrQExG-zZi9y"
      },
      "source": [
        "predicted = obj1.inverse_transform(predicted)\n",
        "actual_y = obj1.inverse_transform(y_test.reshape(y_test.shape[0],1))\n"
      ],
      "execution_count": null,
      "outputs": []
    },
    {
      "cell_type": "code",
      "metadata": {
        "colab": {
          "base_uri": "https://localhost:8080/",
          "height": 265
        },
        "id": "L-HNUix8aA94",
        "outputId": "03ba57f4-516e-40d5-ee06-b3a4fecbdd75"
      },
      "source": [
        "plt.plot(predicted)\n",
        "plt.plot(actual_y)\n",
        "plt.legend(['predicted','actual'])\n",
        "plt.show()"
      ],
      "execution_count": null,
      "outputs": [
        {
          "output_type": "display_data",
          "data": {
            "image/png": "[encoded data removed]",
            "text/plain": [
              "<Figure size 432x288 with 1 Axes>"
            ]
          },
          "metadata": {
            "needs_background": "light"
          }
        }
      ]
    }
  ]
}